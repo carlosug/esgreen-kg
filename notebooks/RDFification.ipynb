{
 "cells": [
  {
   "cell_type": "markdown",
   "metadata": {},
   "source": [
    "## Questions in SPARQL\n",
    "* 1. **city center** most abundant organisms.\n",
    "* 2. **outside** city center.\n",
    "* 3. **areas** with least and most diverse species  diversity (Shannon Index)."
   ]
  },
  {
   "cell_type": "code",
   "execution_count": 1,
   "metadata": {},
   "outputs": [],
   "source": [
    "import csv\n",
    "import json\n",
    "from functools import reduce\n",
    "from tqdm import tqdm\n"
   ]
  },
  {
   "cell_type": "code",
   "execution_count": 2,
   "metadata": {},
   "outputs": [],
   "source": [
    "from rdflib import Graph, URIRef, Literal, RDF, ConjunctiveGraph\n",
    "from rdflib import Namespace\n",
    "from rdflib import Dataset\n",
    "from rdflib.namespace import XSD"
   ]
  },
  {
   "cell_type": "code",
   "execution_count": 3,
   "metadata": {},
   "outputs": [],
   "source": [
    "import pandas as pd\n",
    "import numpy as np"
   ]
  },
  {
   "cell_type": "markdown",
   "metadata": {},
   "source": [
    "## ArboladoParquesHistoricoSingularesForestales_2020"
   ]
  },
  {
   "cell_type": "code",
   "execution_count": 4,
   "metadata": {},
   "outputs": [],
   "source": [
    "df_1 = pd.read_csv('../data/inputs/ArboladoParquesHistoricoSingularesForestales_2020.csv', sep = ';') "
   ]
  },
  {
   "cell_type": "code",
   "execution_count": 5,
   "metadata": {},
   "outputs": [
    {
     "data": {
      "text/html": [
       "<div>\n",
       "<style scoped>\n",
       "    .dataframe tbody tr th:only-of-type {\n",
       "        vertical-align: middle;\n",
       "    }\n",
       "\n",
       "    .dataframe tbody tr th {\n",
       "        vertical-align: top;\n",
       "    }\n",
       "\n",
       "    .dataframe thead th {\n",
       "        text-align: right;\n",
       "    }\n",
       "</style>\n",
       "<table border=\"1\" class=\"dataframe\">\n",
       "  <thead>\n",
       "    <tr style=\"text-align: right;\">\n",
       "      <th></th>\n",
       "      <th>PARQUE</th>\n",
       "      <th>ESPECIE</th>\n",
       "      <th>UNIDADES 2020</th>\n",
       "    </tr>\n",
       "  </thead>\n",
       "  <tbody>\n",
       "    <tr>\n",
       "      <th>0</th>\n",
       "      <td>JARDINES DEL BUEN RETIRO</td>\n",
       "      <td>Aesculus hippocastanum</td>\n",
       "      <td>5951.0</td>\n",
       "    </tr>\n",
       "    <tr>\n",
       "      <th>1</th>\n",
       "      <td>JARDINES DEL BUEN RETIRO</td>\n",
       "      <td>Platanus x hybrida</td>\n",
       "      <td>934.0</td>\n",
       "    </tr>\n",
       "    <tr>\n",
       "      <th>2</th>\n",
       "      <td>JARDINES DEL BUEN RETIRO</td>\n",
       "      <td>Cercis siliquastrum</td>\n",
       "      <td>720.0</td>\n",
       "    </tr>\n",
       "    <tr>\n",
       "      <th>3</th>\n",
       "      <td>JARDINES DEL BUEN RETIRO</td>\n",
       "      <td>Trachycarpus fortunei</td>\n",
       "      <td>532.0</td>\n",
       "    </tr>\n",
       "    <tr>\n",
       "      <th>4</th>\n",
       "      <td>JARDINES DEL BUEN RETIRO</td>\n",
       "      <td>Celtis australis</td>\n",
       "      <td>541.0</td>\n",
       "    </tr>\n",
       "  </tbody>\n",
       "</table>\n",
       "</div>"
      ],
      "text/plain": [
       "                     PARQUE                 ESPECIE  UNIDADES 2020\n",
       "0  JARDINES DEL BUEN RETIRO  Aesculus hippocastanum         5951.0\n",
       "1  JARDINES DEL BUEN RETIRO      Platanus x hybrida          934.0\n",
       "2  JARDINES DEL BUEN RETIRO     Cercis siliquastrum          720.0\n",
       "3  JARDINES DEL BUEN RETIRO   Trachycarpus fortunei          532.0\n",
       "4  JARDINES DEL BUEN RETIRO        Celtis australis          541.0"
      ]
     },
     "execution_count": 5,
     "metadata": {},
     "output_type": "execute_result"
    }
   ],
   "source": [
    "df_1.head()"
   ]
  },
  {
   "cell_type": "markdown",
   "metadata": {},
   "source": [
    "* Expected triples:\n",
    "```rdf\n",
    "# ArboladoParquesHistoricosSingularesyForestalesYYYY.csv\n",
    "######## Turtle syntax ########\n",
    ":Jardines-del-buen-retiro rdf:type :Park .\n",
    "Park sio: isLocatedIn District .\n",
    ":Jardines-del-buen-retiro sio:contains :collection-of-aesculus-hippocastanum .\n",
    ":collection-of-aesculus-hippocastanum a sio:Collection .\n",
    ":collection-of-aesculus-hippocastanum sio:hasMember :aesculus-hippocastanum .\n",
    ":aesculus-hippocastanum a :habitatSpecies.\n",
    ":aesculus-hippocastanum sio: has-unique-indentifier :EUNIS-code .\n",
    ":EUNIS-Code sio:has-value \"G3.74\" .\n",
    ":collection-of-aesculus-hippocastanum sio:has-attribute :ah_count .\n",
    ":cph_count a sio:memberCount .\n",
    ":cph_count sio:has-value \"6377\"\n",
    "```"
   ]
  },
  {
   "cell_type": "markdown",
   "metadata": {},
   "source": [
    "## ArboladoZonasVerdesDistritosCalles_2020"
   ]
  },
  {
   "cell_type": "code",
   "execution_count": 6,
   "metadata": {},
   "outputs": [],
   "source": [
    "df_2 = pd.read_csv('../data/inputs/ArboladoZonasVerdesDistritosCalles_2020.csv', sep = ';') "
   ]
  },
  {
   "cell_type": "code",
   "execution_count": 8,
   "metadata": {},
   "outputs": [
    {
     "data": {
      "text/html": [
       "<div>\n",
       "<style scoped>\n",
       "    .dataframe tbody tr th:only-of-type {\n",
       "        vertical-align: middle;\n",
       "    }\n",
       "\n",
       "    .dataframe tbody tr th {\n",
       "        vertical-align: top;\n",
       "    }\n",
       "\n",
       "    .dataframe thead th {\n",
       "        text-align: right;\n",
       "    }\n",
       "</style>\n",
       "<table border=\"1\" class=\"dataframe\">\n",
       "  <thead>\n",
       "    <tr style=\"text-align: right;\">\n",
       "      <th></th>\n",
       "      <th>Nombre_distrito</th>\n",
       "      <th>N�_Distrito</th>\n",
       "      <th>NOMBRE_ESPECIE</th>\n",
       "      <th>N�_Unidades</th>\n",
       "      <th>Unnamed: 4</th>\n",
       "    </tr>\n",
       "  </thead>\n",
       "  <tbody>\n",
       "    <tr>\n",
       "      <th>0</th>\n",
       "      <td>Centro</td>\n",
       "      <td>1.0</td>\n",
       "      <td>Ligustrum�japonicum�'variegata'</td>\n",
       "      <td>2641.0</td>\n",
       "      <td>NaN</td>\n",
       "    </tr>\n",
       "    <tr>\n",
       "      <th>1</th>\n",
       "      <td>Centro</td>\n",
       "      <td>1.0</td>\n",
       "      <td>Sophora japonica</td>\n",
       "      <td>1577.0</td>\n",
       "      <td>NaN</td>\n",
       "    </tr>\n",
       "    <tr>\n",
       "      <th>2</th>\n",
       "      <td>Centro</td>\n",
       "      <td>1.0</td>\n",
       "      <td>Platanus x hybrida</td>\n",
       "      <td>1432.0</td>\n",
       "      <td>NaN</td>\n",
       "    </tr>\n",
       "    <tr>\n",
       "      <th>3</th>\n",
       "      <td>Centro</td>\n",
       "      <td>1.0</td>\n",
       "      <td>Aesculus hippocastanum</td>\n",
       "      <td>510.0</td>\n",
       "      <td>NaN</td>\n",
       "    </tr>\n",
       "    <tr>\n",
       "      <th>4</th>\n",
       "      <td>Centro</td>\n",
       "      <td>1.0</td>\n",
       "      <td>Ulmus pumila</td>\n",
       "      <td>369.0</td>\n",
       "      <td>NaN</td>\n",
       "    </tr>\n",
       "  </tbody>\n",
       "</table>\n",
       "</div>"
      ],
      "text/plain": [
       "  Nombre_distrito  N�_Distrito                   NOMBRE_ESPECIE  N�_Unidades  \\\n",
       "0          Centro          1.0  Ligustrum�japonicum�'variegata'       2641.0   \n",
       "1          Centro          1.0                 Sophora japonica       1577.0   \n",
       "2          Centro          1.0               Platanus x hybrida       1432.0   \n",
       "3          Centro          1.0           Aesculus hippocastanum        510.0   \n",
       "4          Centro          1.0                     Ulmus pumila        369.0   \n",
       "\n",
       "   Unnamed: 4  \n",
       "0         NaN  \n",
       "1         NaN  \n",
       "2         NaN  \n",
       "3         NaN  \n",
       "4         NaN  "
      ]
     },
     "execution_count": 8,
     "metadata": {},
     "output_type": "execute_result"
    }
   ],
   "source": [
    "df_2.head()"
   ]
  },
  {
   "cell_type": "code",
   "execution_count": null,
   "metadata": {},
   "outputs": [],
   "source": [
    "## Estado_arbolado_ParquesHistoricoSingularesForestales_YYYY"
   ]
  },
  {
   "cell_type": "markdown",
   "metadata": {},
   "source": [
    "## RDFification with RML Mapper"
   ]
  },
  {
   "cell_type": "code",
   "execution_count": null,
   "metadata": {},
   "outputs": [],
   "source": [
    "# Generate RDF from the YARRRML mappings (output in output/ folder)\n",
    "# !./run_rmlmapper.sh mapping-esgreen.yarrr.yml"
   ]
  },
  {
   "cell_type": "code",
   "execution_count": 21,
   "metadata": {},
   "outputs": [
    {
     "ename": "NameError",
     "evalue": "name 'usda_ingr_df' is not defined",
     "output_type": "error",
     "traceback": [
      "\u001b[1;31m---------------------------------------------------------------------------\u001b[0m",
      "\u001b[1;31mNameError\u001b[0m                                 Traceback (most recent call last)",
      "\u001b[1;32m<ipython-input-21-6b870b7943e8>\u001b[0m in \u001b[0;36m<module>\u001b[1;34m\u001b[0m\n\u001b[0;32m      3\u001b[0m \u001b[0mFOOD_P\u001b[0m\u001b[1;33m=\u001b[0m \u001b[0mNamespace\u001b[0m\u001b[1;33m(\u001b[0m\u001b[1;34m'http://www.w3id.org/foodb/property/'\u001b[0m\u001b[1;33m)\u001b[0m\u001b[1;33m\u001b[0m\u001b[1;33m\u001b[0m\u001b[0m\n\u001b[0;32m      4\u001b[0m \u001b[0mdataset\u001b[0m \u001b[1;33m=\u001b[0m \u001b[0mDataset\u001b[0m\u001b[1;33m(\u001b[0m\u001b[1;33m)\u001b[0m\u001b[1;33m\u001b[0m\u001b[1;33m\u001b[0m\u001b[0m\n\u001b[1;32m----> 5\u001b[1;33m \u001b[0mcolumns\u001b[0m \u001b[1;33m=\u001b[0m \u001b[0musda_ingr_df\u001b[0m\u001b[1;33m.\u001b[0m\u001b[0mcolumns\u001b[0m\u001b[1;33m\u001b[0m\u001b[1;33m\u001b[0m\u001b[0m\n\u001b[0m\u001b[0;32m      6\u001b[0m \u001b[1;32mfor\u001b[0m \u001b[1;33m(\u001b[0m\u001b[0mindex\u001b[0m\u001b[1;33m,\u001b[0m \u001b[0mseries\u001b[0m\u001b[1;33m)\u001b[0m \u001b[1;32min\u001b[0m \u001b[0musda_ingr_df\u001b[0m\u001b[1;33m.\u001b[0m\u001b[0miterrows\u001b[0m\u001b[1;33m(\u001b[0m\u001b[1;33m)\u001b[0m\u001b[1;33m:\u001b[0m\u001b[1;33m\u001b[0m\u001b[1;33m\u001b[0m\u001b[0m\n\u001b[0;32m      7\u001b[0m     \u001b[0ming_no\u001b[0m\u001b[1;33m=\u001b[0m \u001b[0mstr\u001b[0m\u001b[1;33m(\u001b[0m\u001b[0mseries\u001b[0m\u001b[1;33m[\u001b[0m\u001b[1;34m'NDB_No'\u001b[0m\u001b[1;33m]\u001b[0m\u001b[1;33m)\u001b[0m\u001b[1;33m\u001b[0m\u001b[1;33m\u001b[0m\u001b[0m\n",
      "\u001b[1;31mNameError\u001b[0m: name 'usda_ingr_df' is not defined"
     ]
    }
   ],
   "source": [
    "# Define graph 'g' and namespaces for RDF conversion using semanticscience Integrated Ontology\n",
    "BASE= Namespace('https://bioportal.bioontology.org/ontologies/SIO/#')\n",
    "FOOD_P= Namespace('http://www.w3id.org/foodb/property/')\n",
    "dataset = Dataset()\n",
    "columns = usda_ingr_df.columns\n",
    "for (index, series) in usda_ingr_df.iterrows():\n",
    "    ing_no= str(series['NDB_No'])\n",
    "    quantity = float(series['GmWt_1'])\n",
    "    for i, row in datadict_df.iterrows():\n",
    "        pos = row['Position']\n",
    "        id_ = row['Identifier']\n",
    "        uri = id_.replace('https://bioportal.bioontology.org/ontologies/SIO/#','https://w3id.org/foodkg/quality/high_')\n",
    "        rdv = float(row['RDV'])\n",
    "        \n",
    "        col = columns[pos-1]\n",
    "        #print (pos,col)\n",
    "        if col in ['GmWt_1','GmWt_2','GmWt_Desc1','GmWt_Desc2','Shrt_Desc']:\n",
    "            continue\n",
    "        value = float(series[pos-1])\n",
    "        if value  == 0.0 or str(value) == 'nan' or rdv ==0: continue\n",
    "        portion_value = quantity*value/100\n",
    "        if portion_value > rdv/3:\n",
    "            dataset.add((BASE[ing_no],FOOD_P['hasQuality'], URIRef(uri)))"
   ]
  }
 ],
 "metadata": {
  "interpreter": {
   "hash": "57fbfda628a738e2d0811edeaca29d19de3b5b8e43d067c50c1a72b6bf24ea65"
  },
  "kernelspec": {
   "display_name": "Python 3.9.1 64-bit",
   "name": "python3"
  },
  "language_info": {
   "codemirror_mode": {
    "name": "ipython",
    "version": 3
   },
   "file_extension": ".py",
   "mimetype": "text/x-python",
   "name": "python",
   "nbconvert_exporter": "python",
   "pygments_lexer": "ipython3",
   "version": "3.9.1"
  },
  "orig_nbformat": 4
 },
 "nbformat": 4,
 "nbformat_minor": 2
}
