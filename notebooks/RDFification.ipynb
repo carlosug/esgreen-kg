{
 "cells": [
  {
   "cell_type": "markdown",
   "source": [
    "## Questions in SPARQL\r\n",
    "* 1. **city center** most abundant organisms.\r\n",
    "* 2. **outside** city center.\r\n",
    "* 3. **areas** with least and most diverse species  diversity (Shannon Index)."
   ],
   "metadata": {}
  },
  {
   "cell_type": "code",
   "execution_count": 1,
   "source": [
    "import csv\r\n",
    "import json\r\n",
    "from functools import reduce\r\n",
    "from tqdm import tqdm\r\n"
   ],
   "outputs": [],
   "metadata": {}
  },
  {
   "cell_type": "code",
   "execution_count": 2,
   "source": [
    "from rdflib import Graph, URIRef, Literal, RDF, ConjunctiveGraph\r\n",
    "from rdflib import Namespace\r\n",
    "from rdflib import Dataset\r\n",
    "from rdflib.namespace import XSD"
   ],
   "outputs": [],
   "metadata": {}
  },
  {
   "cell_type": "code",
   "execution_count": 4,
   "source": [
    "import pandas as pd\r\n",
    "import numpy as np"
   ],
   "outputs": [],
   "metadata": {}
  },
  {
   "cell_type": "code",
   "execution_count": 15,
   "source": [
    "trees_df = pd.read_csv('../data/madrid/ArboladoParquesHistoricoSingularesForestales_2020.csv', sep = ';') "
   ],
   "outputs": [],
   "metadata": {}
  },
  {
   "cell_type": "code",
   "execution_count": 16,
   "source": [
    "trees_df.head()"
   ],
   "outputs": [
    {
     "output_type": "execute_result",
     "data": {
      "text/html": [
       "<div>\n",
       "<style scoped>\n",
       "    .dataframe tbody tr th:only-of-type {\n",
       "        vertical-align: middle;\n",
       "    }\n",
       "\n",
       "    .dataframe tbody tr th {\n",
       "        vertical-align: top;\n",
       "    }\n",
       "\n",
       "    .dataframe thead th {\n",
       "        text-align: right;\n",
       "    }\n",
       "</style>\n",
       "<table border=\"1\" class=\"dataframe\">\n",
       "  <thead>\n",
       "    <tr style=\"text-align: right;\">\n",
       "      <th></th>\n",
       "      <th>PARQUE</th>\n",
       "      <th>ESPECIE</th>\n",
       "      <th>UNIDADES 2020</th>\n",
       "    </tr>\n",
       "  </thead>\n",
       "  <tbody>\n",
       "    <tr>\n",
       "      <th>0</th>\n",
       "      <td>JARDINES DEL BUEN RETIRO</td>\n",
       "      <td>Aesculus hippocastanum</td>\n",
       "      <td>5951.0</td>\n",
       "    </tr>\n",
       "    <tr>\n",
       "      <th>1</th>\n",
       "      <td>JARDINES DEL BUEN RETIRO</td>\n",
       "      <td>Platanus x hybrida</td>\n",
       "      <td>934.0</td>\n",
       "    </tr>\n",
       "    <tr>\n",
       "      <th>2</th>\n",
       "      <td>JARDINES DEL BUEN RETIRO</td>\n",
       "      <td>Cercis siliquastrum</td>\n",
       "      <td>720.0</td>\n",
       "    </tr>\n",
       "    <tr>\n",
       "      <th>3</th>\n",
       "      <td>JARDINES DEL BUEN RETIRO</td>\n",
       "      <td>Trachycarpus fortunei</td>\n",
       "      <td>532.0</td>\n",
       "    </tr>\n",
       "    <tr>\n",
       "      <th>4</th>\n",
       "      <td>JARDINES DEL BUEN RETIRO</td>\n",
       "      <td>Celtis australis</td>\n",
       "      <td>541.0</td>\n",
       "    </tr>\n",
       "  </tbody>\n",
       "</table>\n",
       "</div>"
      ],
      "text/plain": [
       "                     PARQUE                 ESPECIE  UNIDADES 2020\n",
       "0  JARDINES DEL BUEN RETIRO  Aesculus hippocastanum         5951.0\n",
       "1  JARDINES DEL BUEN RETIRO      Platanus x hybrida          934.0\n",
       "2  JARDINES DEL BUEN RETIRO     Cercis siliquastrum          720.0\n",
       "3  JARDINES DEL BUEN RETIRO   Trachycarpus fortunei          532.0\n",
       "4  JARDINES DEL BUEN RETIRO        Celtis australis          541.0"
      ]
     },
     "metadata": {},
     "execution_count": 16
    }
   ],
   "metadata": {}
  },
  {
   "cell_type": "code",
   "execution_count": 18,
   "source": [
    "trees_destrict_df = pd.read_csv('../data/madrid/ArboladoZonasVerdesDistritosCalles_2020.csv', sep = ';') "
   ],
   "outputs": [],
   "metadata": {}
  },
  {
   "cell_type": "code",
   "execution_count": 20,
   "source": [
    "trees_destrict_df.tail()"
   ],
   "outputs": [
    {
     "output_type": "execute_result",
     "data": {
      "text/html": [
       "<div>\n",
       "<style scoped>\n",
       "    .dataframe tbody tr th:only-of-type {\n",
       "        vertical-align: middle;\n",
       "    }\n",
       "\n",
       "    .dataframe tbody tr th {\n",
       "        vertical-align: top;\n",
       "    }\n",
       "\n",
       "    .dataframe thead th {\n",
       "        text-align: right;\n",
       "    }\n",
       "</style>\n",
       "<table border=\"1\" class=\"dataframe\">\n",
       "  <thead>\n",
       "    <tr style=\"text-align: right;\">\n",
       "      <th></th>\n",
       "      <th>Nombre_distrito</th>\n",
       "      <th>N�_Distrito</th>\n",
       "      <th>NOMBRE_ESPECIE</th>\n",
       "      <th>N�_Unidades</th>\n",
       "      <th>Unnamed: 4</th>\n",
       "    </tr>\n",
       "  </thead>\n",
       "  <tbody>\n",
       "    <tr>\n",
       "      <th>278</th>\n",
       "      <td>BARAJAS</td>\n",
       "      <td>21.0</td>\n",
       "      <td>Ulmus pumila</td>\n",
       "      <td>357.0</td>\n",
       "      <td>NaN</td>\n",
       "    </tr>\n",
       "    <tr>\n",
       "      <th>279</th>\n",
       "      <td>BARAJAS</td>\n",
       "      <td>21.0</td>\n",
       "      <td>Otros</td>\n",
       "      <td>6602.0</td>\n",
       "      <td>NaN</td>\n",
       "    </tr>\n",
       "    <tr>\n",
       "      <th>280</th>\n",
       "      <td>NaN</td>\n",
       "      <td>NaN</td>\n",
       "      <td>Total</td>\n",
       "      <td>16245.0</td>\n",
       "      <td>NaN</td>\n",
       "    </tr>\n",
       "    <tr>\n",
       "      <th>281</th>\n",
       "      <td>NaN</td>\n",
       "      <td>NaN</td>\n",
       "      <td>NaN</td>\n",
       "      <td>NaN</td>\n",
       "      <td>NaN</td>\n",
       "    </tr>\n",
       "    <tr>\n",
       "      <th>282</th>\n",
       "      <td>NaN</td>\n",
       "      <td>NaN</td>\n",
       "      <td>TOTAL:</td>\n",
       "      <td>648481.0</td>\n",
       "      <td>NaN</td>\n",
       "    </tr>\n",
       "  </tbody>\n",
       "</table>\n",
       "</div>"
      ],
      "text/plain": [
       "    Nombre_distrito  N�_Distrito NOMBRE_ESPECIE  N�_Unidades  Unnamed: 4\n",
       "278         BARAJAS         21.0   Ulmus pumila        357.0         NaN\n",
       "279         BARAJAS         21.0          Otros       6602.0         NaN\n",
       "280             NaN          NaN          Total      16245.0         NaN\n",
       "281             NaN          NaN            NaN          NaN         NaN\n",
       "282             NaN          NaN         TOTAL:     648481.0         NaN"
      ]
     },
     "metadata": {},
     "execution_count": 20
    }
   ],
   "metadata": {}
  },
  {
   "cell_type": "code",
   "execution_count": null,
   "source": [
    "# Generate RDF from the YARRRML mappings (output in output/ folder)\r\n",
    "# !./run_rmlmapper.sh mapping-esgreen.yarrr.yml"
   ],
   "outputs": [],
   "metadata": {}
  },
  {
   "cell_type": "code",
   "execution_count": 21,
   "source": [
    "# Define graph 'g' and namespaces for RDF conversion using semanticscience Integrated Ontology\r\n",
    "BASE= Namespace('https://bioportal.bioontology.org/ontologies/SIO/#')\r\n",
    "FOOD_P= Namespace('http://www.w3id.org/foodb/property/')\r\n",
    "dataset = Dataset()\r\n",
    "columns = usda_ingr_df.columns\r\n",
    "for (index, series) in usda_ingr_df.iterrows():\r\n",
    "    ing_no= str(series['NDB_No'])\r\n",
    "    quantity = float(series['GmWt_1'])\r\n",
    "    for i, row in datadict_df.iterrows():\r\n",
    "        pos = row['Position']\r\n",
    "        id_ = row['Identifier']\r\n",
    "        uri = id_.replace('https://bioportal.bioontology.org/ontologies/SIO/#','https://w3id.org/foodkg/quality/high_')\r\n",
    "        rdv = float(row['RDV'])\r\n",
    "        \r\n",
    "        col = columns[pos-1]\r\n",
    "        #print (pos,col)\r\n",
    "        if col in ['GmWt_1','GmWt_2','GmWt_Desc1','GmWt_Desc2','Shrt_Desc']:\r\n",
    "            continue\r\n",
    "        value = float(series[pos-1])\r\n",
    "        if value  == 0.0 or str(value) == 'nan' or rdv ==0: continue\r\n",
    "        portion_value = quantity*value/100\r\n",
    "        if portion_value > rdv/3:\r\n",
    "            dataset.add((BASE[ing_no],FOOD_P['hasQuality'], URIRef(uri)))"
   ],
   "outputs": [
    {
     "output_type": "error",
     "ename": "NameError",
     "evalue": "name 'usda_ingr_df' is not defined",
     "traceback": [
      "\u001b[1;31m---------------------------------------------------------------------------\u001b[0m",
      "\u001b[1;31mNameError\u001b[0m                                 Traceback (most recent call last)",
      "\u001b[1;32m<ipython-input-21-6b870b7943e8>\u001b[0m in \u001b[0;36m<module>\u001b[1;34m\u001b[0m\n\u001b[0;32m      3\u001b[0m \u001b[0mFOOD_P\u001b[0m\u001b[1;33m=\u001b[0m \u001b[0mNamespace\u001b[0m\u001b[1;33m(\u001b[0m\u001b[1;34m'http://www.w3id.org/foodb/property/'\u001b[0m\u001b[1;33m)\u001b[0m\u001b[1;33m\u001b[0m\u001b[1;33m\u001b[0m\u001b[0m\n\u001b[0;32m      4\u001b[0m \u001b[0mdataset\u001b[0m \u001b[1;33m=\u001b[0m \u001b[0mDataset\u001b[0m\u001b[1;33m(\u001b[0m\u001b[1;33m)\u001b[0m\u001b[1;33m\u001b[0m\u001b[1;33m\u001b[0m\u001b[0m\n\u001b[1;32m----> 5\u001b[1;33m \u001b[0mcolumns\u001b[0m \u001b[1;33m=\u001b[0m \u001b[0musda_ingr_df\u001b[0m\u001b[1;33m.\u001b[0m\u001b[0mcolumns\u001b[0m\u001b[1;33m\u001b[0m\u001b[1;33m\u001b[0m\u001b[0m\n\u001b[0m\u001b[0;32m      6\u001b[0m \u001b[1;32mfor\u001b[0m \u001b[1;33m(\u001b[0m\u001b[0mindex\u001b[0m\u001b[1;33m,\u001b[0m \u001b[0mseries\u001b[0m\u001b[1;33m)\u001b[0m \u001b[1;32min\u001b[0m \u001b[0musda_ingr_df\u001b[0m\u001b[1;33m.\u001b[0m\u001b[0miterrows\u001b[0m\u001b[1;33m(\u001b[0m\u001b[1;33m)\u001b[0m\u001b[1;33m:\u001b[0m\u001b[1;33m\u001b[0m\u001b[1;33m\u001b[0m\u001b[0m\n\u001b[0;32m      7\u001b[0m     \u001b[0ming_no\u001b[0m\u001b[1;33m=\u001b[0m \u001b[0mstr\u001b[0m\u001b[1;33m(\u001b[0m\u001b[0mseries\u001b[0m\u001b[1;33m[\u001b[0m\u001b[1;34m'NDB_No'\u001b[0m\u001b[1;33m]\u001b[0m\u001b[1;33m)\u001b[0m\u001b[1;33m\u001b[0m\u001b[1;33m\u001b[0m\u001b[0m\n",
      "\u001b[1;31mNameError\u001b[0m: name 'usda_ingr_df' is not defined"
     ]
    }
   ],
   "metadata": {}
  }
 ],
 "metadata": {
  "orig_nbformat": 4,
  "language_info": {
   "name": "python",
   "version": "3.9.1",
   "mimetype": "text/x-python",
   "codemirror_mode": {
    "name": "ipython",
    "version": 3
   },
   "pygments_lexer": "ipython3",
   "nbconvert_exporter": "python",
   "file_extension": ".py"
  },
  "kernelspec": {
   "name": "python3",
   "display_name": "Python 3.9.1 64-bit"
  },
  "interpreter": {
   "hash": "57fbfda628a738e2d0811edeaca29d19de3b5b8e43d067c50c1a72b6bf24ea65"
  }
 },
 "nbformat": 4,
 "nbformat_minor": 2
}